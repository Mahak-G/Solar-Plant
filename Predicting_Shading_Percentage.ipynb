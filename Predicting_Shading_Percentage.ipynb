{
  "nbformat": 4,
  "nbformat_minor": 0,
  "metadata": {
    "colab": {
      "provenance": []
    },
    "kernelspec": {
      "name": "python3",
      "display_name": "Python 3"
    }
  },
  "cells": [
    {
      "cell_type": "markdown",
      "metadata": {
        "id": "3cbb7fRy-eyr"
      },
      "source": [
        "# Artificial Neural Network"
      ]
    },
    {
      "cell_type": "markdown",
      "metadata": {
        "id": "AG3FQEch-yuA"
      },
      "source": [
        "## Part 1 - Data Preprocessing"
      ]
    },
    {
      "cell_type": "markdown",
      "metadata": {
        "id": "8sNDnxE2-pwE"
      },
      "source": [
        "### Importing the libraries"
      ]
    },
    {
      "cell_type": "code",
      "metadata": {
        "id": "OECJHn30j-cp",
        "colab": {
          "base_uri": "https://localhost:8080/",
          "height": 35
        },
        "outputId": "0b11df9b-c70e-4ace-fadd-495ecc7672e5"
      },
      "source": [
        " import numpy as np\n",
        " import pandas as pd\n",
        " import tensorflow as tf\n",
        " tf.__version__"
      ],
      "execution_count": null,
      "outputs": [
        {
          "output_type": "execute_result",
          "data": {
            "application/vnd.google.colaboratory.intrinsic+json": {
              "type": "string"
            },
            "text/plain": [
              "'2.2.0'"
            ]
          },
          "metadata": {
            "tags": []
          },
          "execution_count": 1
        }
      ]
    },
    {
      "cell_type": "markdown",
      "metadata": {
        "id": "-4zq8Mza_D9O"
      },
      "source": [
        "### Importing the dataset"
      ]
    },
    {
      "cell_type": "code",
      "metadata": {
        "id": "eBe6sHU2wUpK",
        "colab": {
          "base_uri": "https://localhost:8080/",
          "height": 34
        },
        "outputId": "99ede8e7-13b9-4953-e145-85854d798eb4"
      },
      "source": [
        "dataset = pd.read_excel('TBL_NAME.xls')\n",
        "X = dataset.iloc[:, [1,2,3,4,5,6, 7,8,9,10,11,12]].values\n",
        "y = dataset.iloc[:, -1].values\n",
        "print(y)"
      ],
      "execution_count": null,
      "outputs": [
        {
          "output_type": "stream",
          "text": [
            "[100 100 100 ... 100 100 100]\n"
          ],
          "name": "stdout"
        }
      ]
    },
    {
      "cell_type": "markdown",
      "metadata": {
        "id": "VC6omXel_Up0"
      },
      "source": [
        "### Splitting the dataset into the Training set and Test set"
      ]
    },
    {
      "cell_type": "code",
      "metadata": {
        "id": "jem3ZUZCbrkN"
      },
      "source": [
        "from sklearn.model_selection import train_test_split\n",
        "X_train, X_test, y_train, y_test = train_test_split(X, y, test_size = 0.2, random_state = 0)"
      ],
      "execution_count": null,
      "outputs": []
    },
    {
      "cell_type": "code",
      "metadata": {
        "id": "iA2sJijBdAWm",
        "colab": {
          "base_uri": "https://localhost:8080/",
          "height": 613
        },
        "outputId": "a47a5746-d052-4e20-edb5-ef8b10f6bd8c"
      },
      "source": [
        "from sklearn.preprocessing import StandardScaler\n",
        "sc_x = StandardScaler()\n",
        "X_train=sc_x.fit_transform(X_train)\n",
        "X_test=sc_x.transform(X_test)\n",
        "print(X_test )"
      ],
      "execution_count": null,
      "outputs": [
        {
          "output_type": "stream",
          "text": [
            "[[-0.62579778 -0.49417838 -0.60974984 ... -0.97652294 -0.68284506\n",
            "  -0.72542398]\n",
            " [-0.62579778 -0.49417838 -0.60974984 ... -0.97652294 -0.68284506\n",
            "  -0.72542398]\n",
            " [ 3.81298344 -0.49417838 -0.60974984 ... -0.97652294 -0.67937879\n",
            "  -0.72225733]\n",
            " ...\n",
            " [-0.62579778 -0.49417838 -0.60974984 ... -0.97652294 -0.68284506\n",
            "  -0.72542398]\n",
            " [-0.62579778 -0.49417838 -0.60974984 ... -0.97652294 -0.68284506\n",
            "  -0.72542398]\n",
            " [-0.62579778 -0.49417838 -0.60974984 ... -0.97652294 -0.68284506\n",
            "  -0.72542398]]\n"
          ],
          "name": "stdout"
        }
      ]
    },
    {
      "cell_type": "markdown",
      "metadata": {
        "id": "_mSLlAT9_eyI"
      },
      "source": [
        "## Part 2 - Building the ANN"
      ]
    },
    {
      "cell_type": "markdown",
      "metadata": {
        "id": "CsBULd_f_wLY"
      },
      "source": [
        "### Initializing the ANN"
      ]
    },
    {
      "cell_type": "code",
      "metadata": {
        "id": "-dI6Y3hxxaLm"
      },
      "source": [
        "ann = tf.keras.models.Sequential()"
      ],
      "execution_count": null,
      "outputs": []
    },
    {
      "cell_type": "markdown",
      "metadata": {
        "id": "iitAFJS_ABUn"
      },
      "source": [
        "### Adding the input layer and the first hidden layer"
      ]
    },
    {
      "cell_type": "code",
      "metadata": {
        "id": "TYjJy0omxmah"
      },
      "source": [
        "ann.add(tf.keras.layers.Dense(units=6, activation='relu'))"
      ],
      "execution_count": null,
      "outputs": []
    },
    {
      "cell_type": "markdown",
      "metadata": {
        "id": "-lb4kK_wAKbs"
      },
      "source": [
        "### Adding the second hidden layer"
      ]
    },
    {
      "cell_type": "code",
      "metadata": {
        "id": "8Iom3w98xth5"
      },
      "source": [
        "ann.add(tf.keras.layers.Dense(units=6, activation='relu'))"
      ],
      "execution_count": null,
      "outputs": []
    },
    {
      "cell_type": "markdown",
      "metadata": {
        "id": "jwMOmKb3AdBY"
      },
      "source": [
        "### Adding the output layer"
      ]
    },
    {
      "cell_type": "code",
      "metadata": {
        "id": "0rAnJ7PQx1lP"
      },
      "source": [
        "ann.add(tf.keras.layers.Dense(units=1))"
      ],
      "execution_count": null,
      "outputs": []
    },
    {
      "cell_type": "markdown",
      "metadata": {
        "id": "fq7e4fF6A1yy"
      },
      "source": [
        "## Part 3 - Training the ANN"
      ]
    },
    {
      "cell_type": "markdown",
      "metadata": {
        "id": "qDeylAs2An25"
      },
      "source": [
        "### Compiling the ANN"
      ]
    },
    {
      "cell_type": "code",
      "metadata": {
        "id": "b0lRlf5zx6z3"
      },
      "source": [
        "ann.compile(optimizer = 'adam', loss = 'mean_squared_error')"
      ],
      "execution_count": null,
      "outputs": []
    },
    {
      "cell_type": "markdown",
      "metadata": {
        "id": "YjVuiybYOo7r"
      },
      "source": [
        "### Training the ANN model on the Training set"
      ]
    },
    {
      "cell_type": "code",
      "metadata": {
        "id": "Uik_MPMlx_9z",
        "colab": {
          "base_uri": "https://localhost:8080/",
          "height": 1000
        },
        "outputId": "4c1006c9-e224-43ff-f064-b318ba5e47b1"
      },
      "source": [
        "ann.fit(X_train, y_train, batch_size = 32, epochs = 100)"
      ],
      "execution_count": null,
      "outputs": [
        {
          "output_type": "stream",
          "text": [
            "Epoch 1/100\n",
            "219/219 [==============================] - 0s 1ms/step - loss: 6741.0649\n",
            "Epoch 2/100\n",
            "219/219 [==============================] - 0s 1ms/step - loss: 3929.3142\n",
            "Epoch 3/100\n",
            "219/219 [==============================] - 0s 1ms/step - loss: 575.3915\n",
            "Epoch 4/100\n",
            "219/219 [==============================] - 0s 1ms/step - loss: 171.3798\n",
            "Epoch 5/100\n",
            "219/219 [==============================] - 0s 1ms/step - loss: 78.1332\n",
            "Epoch 6/100\n",
            "219/219 [==============================] - 0s 1ms/step - loss: 45.0041\n",
            "Epoch 7/100\n",
            "219/219 [==============================] - 0s 1ms/step - loss: 31.7699\n",
            "Epoch 8/100\n",
            "219/219 [==============================] - 0s 1ms/step - loss: 24.5574\n",
            "Epoch 9/100\n",
            "219/219 [==============================] - 0s 1ms/step - loss: 19.9774\n",
            "Epoch 10/100\n",
            "219/219 [==============================] - 0s 1ms/step - loss: 16.6808\n",
            "Epoch 11/100\n",
            "219/219 [==============================] - 0s 1ms/step - loss: 14.1446\n",
            "Epoch 12/100\n",
            "219/219 [==============================] - 0s 1ms/step - loss: 12.0941\n",
            "Epoch 13/100\n",
            "219/219 [==============================] - 0s 1ms/step - loss: 10.3913\n",
            "Epoch 14/100\n",
            "219/219 [==============================] - 0s 1ms/step - loss: 8.9907\n",
            "Epoch 15/100\n",
            "219/219 [==============================] - 0s 1ms/step - loss: 7.8603\n",
            "Epoch 16/100\n",
            "219/219 [==============================] - 0s 1ms/step - loss: 6.9333\n",
            "Epoch 17/100\n",
            "219/219 [==============================] - 0s 1ms/step - loss: 6.1628\n",
            "Epoch 18/100\n",
            "219/219 [==============================] - 0s 1ms/step - loss: 5.5345\n",
            "Epoch 19/100\n",
            "219/219 [==============================] - 0s 1ms/step - loss: 4.9555\n",
            "Epoch 20/100\n",
            "219/219 [==============================] - 0s 999us/step - loss: 4.4802\n",
            "Epoch 21/100\n",
            "219/219 [==============================] - 0s 1ms/step - loss: 4.0276\n",
            "Epoch 22/100\n",
            "219/219 [==============================] - 0s 1ms/step - loss: 3.5586\n",
            "Epoch 23/100\n",
            "219/219 [==============================] - 0s 1ms/step - loss: 3.2129\n",
            "Epoch 24/100\n",
            "219/219 [==============================] - 0s 1ms/step - loss: 2.9794\n",
            "Epoch 25/100\n",
            "219/219 [==============================] - 0s 1ms/step - loss: 2.8029\n",
            "Epoch 26/100\n",
            "219/219 [==============================] - 0s 1ms/step - loss: 2.6670\n",
            "Epoch 27/100\n",
            "219/219 [==============================] - 0s 1ms/step - loss: 2.5191\n",
            "Epoch 28/100\n",
            "219/219 [==============================] - 0s 1ms/step - loss: 2.4211\n",
            "Epoch 29/100\n",
            "219/219 [==============================] - 0s 1ms/step - loss: 2.3062\n",
            "Epoch 30/100\n",
            "219/219 [==============================] - 0s 1ms/step - loss: 2.2089\n",
            "Epoch 31/100\n",
            "219/219 [==============================] - 0s 1ms/step - loss: 2.1305\n",
            "Epoch 32/100\n",
            "219/219 [==============================] - 0s 1ms/step - loss: 2.0285\n",
            "Epoch 33/100\n",
            "219/219 [==============================] - 0s 1ms/step - loss: 1.9366\n",
            "Epoch 34/100\n",
            "219/219 [==============================] - 0s 1ms/step - loss: 1.8305\n",
            "Epoch 35/100\n",
            "219/219 [==============================] - 0s 1ms/step - loss: 1.7664\n",
            "Epoch 36/100\n",
            "219/219 [==============================] - 0s 1ms/step - loss: 1.6808\n",
            "Epoch 37/100\n",
            "219/219 [==============================] - 0s 1ms/step - loss: 1.6108\n",
            "Epoch 38/100\n",
            "219/219 [==============================] - 0s 1ms/step - loss: 1.5473\n",
            "Epoch 39/100\n",
            "219/219 [==============================] - 0s 1ms/step - loss: 1.4690\n",
            "Epoch 40/100\n",
            "219/219 [==============================] - 0s 1ms/step - loss: 1.4129\n",
            "Epoch 41/100\n",
            "219/219 [==============================] - 0s 1ms/step - loss: 1.3627\n",
            "Epoch 42/100\n",
            "219/219 [==============================] - 0s 998us/step - loss: 1.2945\n",
            "Epoch 43/100\n",
            "219/219 [==============================] - 0s 1ms/step - loss: 1.2665\n",
            "Epoch 44/100\n",
            "219/219 [==============================] - 0s 1ms/step - loss: 1.1958\n",
            "Epoch 45/100\n",
            "219/219 [==============================] - 0s 1ms/step - loss: 1.1560\n",
            "Epoch 46/100\n",
            "219/219 [==============================] - 0s 1ms/step - loss: 1.1113\n",
            "Epoch 47/100\n",
            "219/219 [==============================] - 0s 1ms/step - loss: 1.0834\n",
            "Epoch 48/100\n",
            "219/219 [==============================] - 0s 1ms/step - loss: 1.0390\n",
            "Epoch 49/100\n",
            "219/219 [==============================] - 0s 1ms/step - loss: 0.9904\n",
            "Epoch 50/100\n",
            "219/219 [==============================] - 0s 1ms/step - loss: 0.9570\n",
            "Epoch 51/100\n",
            "219/219 [==============================] - 0s 1ms/step - loss: 0.9143\n",
            "Epoch 52/100\n",
            "219/219 [==============================] - 0s 1ms/step - loss: 0.8936\n",
            "Epoch 53/100\n",
            "219/219 [==============================] - 0s 1ms/step - loss: 0.8479\n",
            "Epoch 54/100\n",
            "219/219 [==============================] - 0s 1ms/step - loss: 0.8088\n",
            "Epoch 55/100\n",
            "219/219 [==============================] - 0s 1ms/step - loss: 0.7691\n",
            "Epoch 56/100\n",
            "219/219 [==============================] - 0s 1ms/step - loss: 0.7517\n",
            "Epoch 57/100\n",
            "219/219 [==============================] - 0s 1ms/step - loss: 0.7121\n",
            "Epoch 58/100\n",
            "219/219 [==============================] - 0s 1ms/step - loss: 0.6927\n",
            "Epoch 59/100\n",
            "219/219 [==============================] - 0s 1ms/step - loss: 0.6547\n",
            "Epoch 60/100\n",
            "219/219 [==============================] - 0s 1ms/step - loss: 0.6289\n",
            "Epoch 61/100\n",
            "219/219 [==============================] - 0s 1ms/step - loss: 0.6117\n",
            "Epoch 62/100\n",
            "219/219 [==============================] - 0s 1ms/step - loss: 0.5777\n",
            "Epoch 63/100\n",
            "219/219 [==============================] - 0s 1ms/step - loss: 0.5673\n",
            "Epoch 64/100\n",
            "219/219 [==============================] - 0s 1ms/step - loss: 0.5308\n",
            "Epoch 65/100\n",
            "219/219 [==============================] - 0s 1ms/step - loss: 0.4977\n",
            "Epoch 66/100\n",
            "219/219 [==============================] - 0s 1ms/step - loss: 0.4730\n",
            "Epoch 67/100\n",
            "219/219 [==============================] - 0s 1ms/step - loss: 0.4536\n",
            "Epoch 68/100\n",
            "219/219 [==============================] - 0s 1ms/step - loss: 0.4186\n",
            "Epoch 69/100\n",
            "219/219 [==============================] - 0s 1ms/step - loss: 0.4015\n",
            "Epoch 70/100\n",
            "219/219 [==============================] - 0s 1ms/step - loss: 0.3859\n",
            "Epoch 71/100\n",
            "219/219 [==============================] - 0s 1ms/step - loss: 0.3420\n",
            "Epoch 72/100\n",
            "219/219 [==============================] - 0s 1ms/step - loss: 0.3085\n",
            "Epoch 73/100\n",
            "219/219 [==============================] - 0s 1ms/step - loss: 0.2821\n",
            "Epoch 74/100\n",
            "219/219 [==============================] - 0s 1ms/step - loss: 0.2678\n",
            "Epoch 75/100\n",
            "219/219 [==============================] - 0s 1ms/step - loss: 0.2521\n",
            "Epoch 76/100\n",
            "219/219 [==============================] - 0s 1ms/step - loss: 0.2404\n",
            "Epoch 77/100\n",
            "219/219 [==============================] - 0s 1ms/step - loss: 0.2253\n",
            "Epoch 78/100\n",
            "219/219 [==============================] - 0s 1ms/step - loss: 0.2181\n",
            "Epoch 79/100\n",
            "219/219 [==============================] - 0s 1ms/step - loss: 0.2049\n",
            "Epoch 80/100\n",
            "219/219 [==============================] - 0s 1ms/step - loss: 0.1995\n",
            "Epoch 81/100\n",
            "219/219 [==============================] - 0s 1ms/step - loss: 0.1857\n",
            "Epoch 82/100\n",
            "219/219 [==============================] - 0s 1ms/step - loss: 0.1836\n",
            "Epoch 83/100\n",
            "219/219 [==============================] - 0s 1ms/step - loss: 0.1781\n",
            "Epoch 84/100\n",
            "219/219 [==============================] - 0s 1ms/step - loss: 0.1723\n",
            "Epoch 85/100\n",
            "219/219 [==============================] - 0s 1ms/step - loss: 0.1673\n",
            "Epoch 86/100\n",
            "219/219 [==============================] - 0s 1ms/step - loss: 0.1613\n",
            "Epoch 87/100\n",
            "219/219 [==============================] - 0s 1ms/step - loss: 0.1518\n",
            "Epoch 88/100\n",
            "219/219 [==============================] - 0s 1ms/step - loss: 0.1498\n",
            "Epoch 89/100\n",
            "219/219 [==============================] - 0s 1ms/step - loss: 0.1453\n",
            "Epoch 90/100\n",
            "219/219 [==============================] - 0s 1ms/step - loss: 0.1384\n",
            "Epoch 91/100\n",
            "219/219 [==============================] - 0s 1ms/step - loss: 0.1383\n",
            "Epoch 92/100\n",
            "219/219 [==============================] - 0s 1ms/step - loss: 0.1316\n",
            "Epoch 93/100\n",
            "219/219 [==============================] - 0s 1ms/step - loss: 0.1317\n",
            "Epoch 94/100\n",
            "219/219 [==============================] - 0s 1ms/step - loss: 0.1238\n",
            "Epoch 95/100\n",
            "219/219 [==============================] - 0s 1ms/step - loss: 0.1222\n",
            "Epoch 96/100\n",
            "219/219 [==============================] - 0s 1ms/step - loss: 0.1216\n",
            "Epoch 97/100\n",
            "219/219 [==============================] - 0s 1ms/step - loss: 0.1153\n",
            "Epoch 98/100\n",
            "219/219 [==============================] - 0s 1ms/step - loss: 0.1166\n",
            "Epoch 99/100\n",
            "219/219 [==============================] - 0s 1ms/step - loss: 0.1129\n",
            "Epoch 100/100\n",
            "219/219 [==============================] - 0s 1ms/step - loss: 0.1108\n"
          ],
          "name": "stdout"
        },
        {
          "output_type": "execute_result",
          "data": {
            "text/plain": [
              "<tensorflow.python.keras.callbacks.History at 0x7f3844a1f1d0>"
            ]
          },
          "metadata": {
            "tags": []
          },
          "execution_count": 10
        }
      ]
    },
    {
      "cell_type": "markdown",
      "metadata": {
        "id": "0H0zKKNEBLD5"
      },
      "source": [
        "### Predicting the results of the Test set"
      ]
    },
    {
      "cell_type": "code",
      "metadata": {
        "id": "OzM-mmlJyMWH",
        "colab": {
          "base_uri": "https://localhost:8080/",
          "height": 138
        },
        "outputId": "09dfaf9d-2be2-4016-f7ef-024ea674a3bc"
      },
      "source": [
        "y_pred = ann.predict(X_test)\n",
        "np.set_printoptions(precision=2)\n",
        "print(np.concatenate((y_pred.reshape(len(y_pred),1), y_test.reshape(len(y_test),1)),1))"
      ],
      "execution_count": null,
      "outputs": [
        {
          "output_type": "stream",
          "text": [
            "[[100.01 100.  ]\n",
            " [100.01 100.  ]\n",
            " [ 79.6   80.  ]\n",
            " ...\n",
            " [100.02 100.  ]\n",
            " [100.01 100.  ]\n",
            " [100.01 100.  ]]\n"
          ],
          "name": "stdout"
        }
      ]
    },
    {
      "cell_type": "code",
      "metadata": {
        "id": "wbal43bZ0jdp",
        "colab": {
          "base_uri": "https://localhost:8080/",
          "height": 138
        },
        "outputId": "c250616b-e893-4b49-94ae-e12563c7219e"
      },
      "source": [
        "print(y_pred )\n"
      ],
      "execution_count": null,
      "outputs": [
        {
          "output_type": "stream",
          "text": [
            "[[100.01]\n",
            " [100.01]\n",
            " [ 79.6 ]\n",
            " ...\n",
            " [100.02]\n",
            " [100.01]\n",
            " [100.01]]\n"
          ],
          "name": "stdout"
        }
      ]
    },
    {
      "cell_type": "code",
      "metadata": {
        "id": "H3QHrErs89cc",
        "colab": {
          "base_uri": "https://localhost:8080/",
          "height": 51
        },
        "outputId": "5aecab67-770f-42d7-bdb3-4e82e06c37ae"
      },
      "source": [
        "from sklearn.metrics import mean_squared_error\n",
        "from math import sqrt\n",
        "\n",
        "pred_train = ann.predict(X_train)\n",
        "print(np.sqrt(mean_squared_error(y_train,pred_train)))\n",
        "\n",
        "pred = ann.predict(X_test)\n",
        "print(np.sqrt(mean_squared_error(y_test,pred)))"
      ],
      "execution_count": null,
      "outputs": [
        {
          "output_type": "stream",
          "text": [
            "0.3313246421149355\n",
            "0.33319575323112144\n"
          ],
          "name": "stdout"
        }
      ]
    },
    {
      "cell_type": "code",
      "metadata": {
        "id": "QSqv82AhjMZm",
        "colab": {
          "base_uri": "https://localhost:8080/",
          "height": 265
        },
        "outputId": "d849ae19-e8e8-4cae-b439-cc0f22c203e9"
      },
      "source": [
        "import matplotlib.pyplot as plt\n",
        "plt.plot(y_test, label='actual', color='red')\n",
        "plt.plot(y_pred, label='predicted')\n",
        "plt.legend()\n",
        "plt.show()"
      ],
      "execution_count": null,
      "outputs": [
        {
          "output_type": "display_data",
          "data": {
            "image/png": "[encoded data removed]",
            "text/plain": [
              "<Figure size 432x288 with 1 Axes>"
            ]
          },
          "metadata": {
            "tags": [],
            "needs_background": "light"
          }
        }
      ]
    },
    {
      "cell_type": "code",
      "metadata": {
        "id": "qGXHAvNH3MHN",
        "colab": {
          "base_uri": "https://localhost:8080/",
          "height": 613
        },
        "outputId": "424b3cfd-8f01-4f8d-950b-0754cc95d5d5"
      },
      "source": [
        "dataset1 = pd.read_excel('Book2.xlsx')\n",
        "Xy = dataset1.iloc[:, [1,2,3,4,5,6, 7,8,9,10,11,12]].values\n",
        "\n",
        "Y=dataset1.iloc[:, - 1].values\n",
        "np.set_printoptions(suppress=True)\n",
        "print(Y)\n",
        "print(Xy)"
      ],
      "execution_count": null,
      "outputs": [
        {
          "output_type": "stream",
          "text": [
            "[ 10  10  80  80  80 100 100 100 100 100 100 100 100 100 100 100 100 100\n",
            "  80  80  80  10  10   0  10  10  80  80  80 100 100 100 100 100 100 100\n",
            " 100 100 100 100 100 100  80  80  80  10  10   0  10  10  80  80  80 100\n",
            " 100 100 100 100 100 100 100 100 100 100 100 100  80  80  80  10  10   0\n",
            "  10  10  80  80  80 100 100 100 100 100 100 100 100 100 100 100 100 100\n",
            "  80  80  80  10  10   0  10  10  80]\n",
            "[[  1.68   0.73   0.85 ...  38.46 655.99 699.85]\n",
            " [  1.95   0.58   0.68 ...  38.9  548.36 583.27]\n",
            " [  2.62   0.07   0.34 ...  39.42 229.1  371.36]\n",
            " ...\n",
            " [  1.65   0.82   0.96 ...  38.   686.97 736.43]\n",
            " [  1.92   0.65   0.77 ...  38.46 576.37 615.82]\n",
            " [  2.55   0.09   0.46 ...  39.08 241.78 431.2 ]]\n"
          ],
          "name": "stdout"
        }
      ]
    },
    {
      "cell_type": "code",
      "metadata": {
        "id": "lM9HTmR7EvGe",
        "colab": {
          "base_uri": "https://localhost:8080/",
          "height": 347
        },
        "outputId": "a4073978-0873-443e-fa65-c04ae0bb3768"
      },
      "source": [
        "from sklearn.preprocessing import StandardScaler\n",
        "sc_x = StandardScaler()\n",
        "Xy=sc_x.fit_transform(Xy)\n",
        "print(Xy )"
      ],
      "execution_count": null,
      "outputs": [
        {
          "output_type": "stream",
          "text": [
            "[[-0.04  1.73  1.68 ...  1.15  1.8   1.72]\n",
            " [ 0.06  1.26  1.2  ...  1.17  1.39  1.31]\n",
            " [ 0.3  -0.36  0.28 ...  1.2   0.19  0.57]\n",
            " ...\n",
            " [-0.05  2.03  1.98 ...  1.12  1.91  1.85]\n",
            " [ 0.05  1.5   1.44 ...  1.15  1.5   1.42]\n",
            " [ 0.28 -0.29  0.6  ...  1.18  0.24  0.78]]\n"
          ],
          "name": "stdout"
        }
      ]
    },
    {
      "cell_type": "code",
      "metadata": {
        "id": "XmlimTXd6Dno",
        "colab": {
          "base_uri": "https://localhost:8080/",
          "height": 1000
        },
        "outputId": "e6430021-58a5-4ffb-cdb5-03ddebf90d23"
      },
      "source": [
        "y1_pred = ann.predict(Xy)\n",
        "np.set_printoptions(precision=2)\n",
        "print(y1_pred)"
      ],
      "execution_count": null,
      "outputs": [
        {
          "output_type": "stream",
          "text": [
            "[[ 15.66]\n",
            " [ 15.23]\n",
            " [ 83.97]\n",
            " [ 84.07]\n",
            " [ 81.21]\n",
            " [102.51]\n",
            " [102.53]\n",
            " [102.55]\n",
            " [102.57]\n",
            " [102.59]\n",
            " [102.6 ]\n",
            " [102.62]\n",
            " [102.63]\n",
            " [102.64]\n",
            " [102.65]\n",
            " [102.66]\n",
            " [102.67]\n",
            " [102.67]\n",
            " [ 82.45]\n",
            " [ 83.67]\n",
            " [ 83.59]\n",
            " [ 15.09]\n",
            " [ 15.4 ]\n",
            " [  5.88]\n",
            " [ 15.7 ]\n",
            " [ 15.37]\n",
            " [ 84.15]\n",
            " [ 84.33]\n",
            " [ 81.26]\n",
            " [102.49]\n",
            " [102.51]\n",
            " [102.53]\n",
            " [102.54]\n",
            " [102.55]\n",
            " [102.56]\n",
            " [102.58]\n",
            " [102.59]\n",
            " [102.6 ]\n",
            " [102.61]\n",
            " [102.62]\n",
            " [102.63]\n",
            " [102.64]\n",
            " [ 82.53]\n",
            " [ 83.7 ]\n",
            " [ 84.1 ]\n",
            " [ 15.76]\n",
            " [ 16.34]\n",
            " [  6.87]\n",
            " [ 16.38]\n",
            " [ 15.82]\n",
            " [ 84.4 ]\n",
            " [ 84.42]\n",
            " [ 81.26]\n",
            " [102.49]\n",
            " [102.5 ]\n",
            " [102.52]\n",
            " [102.54]\n",
            " [102.55]\n",
            " [102.57]\n",
            " [102.58]\n",
            " [102.59]\n",
            " [102.61]\n",
            " [102.62]\n",
            " [102.63]\n",
            " [102.64]\n",
            " [102.65]\n",
            " [ 82.52]\n",
            " [ 83.51]\n",
            " [ 84.11]\n",
            " [ 15.85]\n",
            " [ 16.44]\n",
            " [  6.96]\n",
            " [ 16.49]\n",
            " [ 15.95]\n",
            " [ 84.6 ]\n",
            " [ 84.6 ]\n",
            " [ 81.32]\n",
            " [102.46]\n",
            " [102.48]\n",
            " [102.5 ]\n",
            " [102.52]\n",
            " [102.54]\n",
            " [102.55]\n",
            " [102.57]\n",
            " [102.58]\n",
            " [102.6 ]\n",
            " [102.61]\n",
            " [102.62]\n",
            " [102.63]\n",
            " [102.64]\n",
            " [ 82.54]\n",
            " [ 83.52]\n",
            " [ 83.83]\n",
            " [ 15.34]\n",
            " [ 15.88]\n",
            " [  6.35]\n",
            " [ 15.95]\n",
            " [ 15.51]\n",
            " [ 84.34]]\n"
          ],
          "name": "stdout"
        }
      ]
    },
    {
      "cell_type": "code",
      "metadata": {
        "id": "xERfCq9mHQlf",
        "colab": {
          "base_uri": "https://localhost:8080/",
          "height": 265
        },
        "outputId": "12e95ddb-bfb3-4d86-98ca-ecefabbfda14"
      },
      "source": [
        "import matplotlib.pyplot as plt\n",
        "plt.plot(Y, label='actual', color='red')\n",
        "plt.plot(y1_pred, label='predicted')\n",
        "plt.legend()\n",
        "plt.show()"
      ],
      "execution_count": null,
      "outputs": [
        {
          "output_type": "display_data",
          "data": {
            "image/png": "[encoded data removed]",
            "text/plain": [
              "<Figure size 432x288 with 1 Axes>"
            ]
          },
          "metadata": {
            "tags": [],
            "needs_background": "light"
          }
        }
      ]
    }
  ]
}